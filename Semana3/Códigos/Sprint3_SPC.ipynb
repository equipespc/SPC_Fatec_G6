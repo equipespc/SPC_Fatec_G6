{
 "cells": [
  {
   "cell_type": "code",
   "execution_count": 1,
   "metadata": {},
   "outputs": [],
   "source": [
    "import pandas as pd"
   ]
  },
  {
   "cell_type": "code",
   "execution_count": 2,
   "metadata": {},
   "outputs": [
    {
     "name": "stdout",
     "output_type": "stream",
     "text": [
      "<class 'pandas.core.frame.DataFrame'>\n",
      "RangeIndex: 15 entries, 0 to 14\n",
      "Data columns (total 12 columns):\n",
      " #   Column               Non-Null Count  Dtype  \n",
      "---  ------               --------------  -----  \n",
      " 0   ID_STG_MVT_CRD       15 non-null     int64  \n",
      " 1   VLR_SDO_UTZ_CRD_RTO  1 non-null      float64\n",
      " 2   VLR_TOT_FAT          1 non-null      float64\n",
      " 3   VLR_MIM_FAT          1 non-null      float64\n",
      " 4   VLR_PCL_FAT          13 non-null     float64\n",
      " 5   QTD_CLI_CAD_POS      15 non-null     int64  \n",
      " 6   QTD_MVT              15 non-null     int64  \n",
      " 7   DES_TIP_PSS          15 non-null     object \n",
      " 8   ID_FNT_ITT           15 non-null     int64  \n",
      " 9   COD_MDL              15 non-null     object \n",
      " 10  DAT_RSS_FNT_ITT      15 non-null     object \n",
      " 11  DAT_INC_DBO          15 non-null     object \n",
      "dtypes: float64(4), int64(4), object(4)\n",
      "memory usage: 1.5+ KB\n"
     ]
    }
   ],
   "source": [
    "a = pd.read_csv('STG_MVT_CRD_csv.csv')\n",
    "a.info()"
   ]
  },
  {
   "cell_type": "code",
   "execution_count": 36,
   "metadata": {},
   "outputs": [
    {
     "data": {
      "text/plain": [
       "0    NaN\n",
       "1    NaN\n",
       "2    NaN\n",
       "3    NaN\n",
       "4    NaN\n",
       "5    NaN\n",
       "6    NaN\n",
       "7    NaN\n",
       "8    NaN\n",
       "10   NaN\n",
       "11   NaN\n",
       "12   NaN\n",
       "13   NaN\n",
       "14   NaN\n",
       "Name: VLR_SDO_UTZ_CRD_RTO, dtype: float64"
      ]
     },
     "execution_count": 36,
     "metadata": {},
     "output_type": "execute_result"
    }
   ],
   "source": [
    "#coluna índice 1: valores inválidos.\n",
    "a1 = pd.read_csv('STG_MVT_CRD_csv.csv', usecols=['VLR_SDO_UTZ_CRD_RTO'], squeeze=True)\n",
    "a1[a1.isnull()]"
   ]
  },
  {
   "cell_type": "code",
   "execution_count": 37,
   "metadata": {},
   "outputs": [
    {
     "data": {
      "text/plain": [
       "0    NaN\n",
       "1    NaN\n",
       "2    NaN\n",
       "3    NaN\n",
       "4    NaN\n",
       "5    NaN\n",
       "6    NaN\n",
       "7    NaN\n",
       "8    NaN\n",
       "9    NaN\n",
       "10   NaN\n",
       "11   NaN\n",
       "12   NaN\n",
       "13   NaN\n",
       "Name: VLR_TOT_FAT, dtype: float64"
      ]
     },
     "execution_count": 37,
     "metadata": {},
     "output_type": "execute_result"
    }
   ],
   "source": [
    "#coluna índice 2: valores inválidos.\n",
    "a2 = pd.read_csv('STG_MVT_CRD_csv.csv', usecols=['VLR_TOT_FAT'], squeeze=True)\n",
    "a2[a2.isnull()]"
   ]
  },
  {
   "cell_type": "code",
   "execution_count": 38,
   "metadata": {},
   "outputs": [
    {
     "data": {
      "text/plain": [
       "0    NaN\n",
       "1    NaN\n",
       "2    NaN\n",
       "3    NaN\n",
       "4    NaN\n",
       "5    NaN\n",
       "6    NaN\n",
       "7    NaN\n",
       "8    NaN\n",
       "9    NaN\n",
       "10   NaN\n",
       "11   NaN\n",
       "12   NaN\n",
       "13   NaN\n",
       "Name: VLR_MIM_FAT, dtype: float64"
      ]
     },
     "execution_count": 38,
     "metadata": {},
     "output_type": "execute_result"
    }
   ],
   "source": [
    "#coluna índice 3: valores inválidos.\n",
    "a3 = pd.read_csv('STG_MVT_CRD_csv.csv', usecols=['VLR_MIM_FAT'], squeeze=True)\n",
    "a3[a3.isnull()]"
   ]
  },
  {
   "cell_type": "code",
   "execution_count": 39,
   "metadata": {},
   "outputs": [
    {
     "data": {
      "text/plain": [
       "9    NaN\n",
       "14   NaN\n",
       "Name: VLR_PCL_FAT, dtype: float64"
      ]
     },
     "execution_count": 39,
     "metadata": {},
     "output_type": "execute_result"
    }
   ],
   "source": [
    "#coluna índice 4: valores inválidos.\n",
    "a4 = pd.read_csv('STG_MVT_CRD_csv.csv', usecols=['VLR_PCL_FAT'], squeeze=True)\n",
    "a4[a4.isnull()]"
   ]
  },
  {
   "cell_type": "code",
   "execution_count": 40,
   "metadata": {},
   "outputs": [
    {
     "data": {
      "text/plain": [
       "9    2.181758e+10\n",
       "Name: VLR_SDO_UTZ_CRD_RTO, dtype: float64"
      ]
     },
     "execution_count": 40,
     "metadata": {},
     "output_type": "execute_result"
    }
   ],
   "source": [
    "#coluna índice 1: valores válidos.\n",
    "a5 = pd.read_csv('STG_MVT_CRD_csv.csv', usecols=['VLR_SDO_UTZ_CRD_RTO'], squeeze=True)\n",
    "a5[a5.notnull()]"
   ]
  },
  {
   "cell_type": "code",
   "execution_count": 41,
   "metadata": {},
   "outputs": [
    {
     "data": {
      "text/plain": [
       "14    1.932767e+12\n",
       "Name: VLR_TOT_FAT, dtype: float64"
      ]
     },
     "execution_count": 41,
     "metadata": {},
     "output_type": "execute_result"
    }
   ],
   "source": [
    "#coluna índice 2: valores válidos.\n",
    "a6 = pd.read_csv('STG_MVT_CRD_csv.csv', usecols=['VLR_TOT_FAT'], squeeze=True)\n",
    "a6[a6.notnull()]"
   ]
  },
  {
   "cell_type": "code",
   "execution_count": 42,
   "metadata": {},
   "outputs": [
    {
     "data": {
      "text/plain": [
       "14    6.071738e+11\n",
       "Name: VLR_MIM_FAT, dtype: float64"
      ]
     },
     "execution_count": 42,
     "metadata": {},
     "output_type": "execute_result"
    }
   ],
   "source": [
    "#coluna índice 3: valores válidos.\n",
    "a7 = pd.read_csv('STG_MVT_CRD_csv.csv', usecols=['VLR_MIM_FAT'], squeeze=True)\n",
    "a7[a7.notnull()]"
   ]
  },
  {
   "cell_type": "code",
   "execution_count": 43,
   "metadata": {},
   "outputs": [
    {
     "data": {
      "text/plain": [
       "0     4.595517e+10\n",
       "1     7.387237e+10\n",
       "2     2.868181e+09\n",
       "3     6.111251e+10\n",
       "4     2.152609e+06\n",
       "5     4.607337e+08\n",
       "6     2.638331e+11\n",
       "7     1.838029e+11\n",
       "8     9.738713e+08\n",
       "10    9.496722e+09\n",
       "11    3.556795e+11\n",
       "12    1.834447e+09\n",
       "13    1.733950e+08\n",
       "Name: VLR_PCL_FAT, dtype: float64"
      ]
     },
     "execution_count": 43,
     "metadata": {},
     "output_type": "execute_result"
    }
   ],
   "source": [
    "#coluna índice 4: valores válidos.\n",
    "a8 = pd.read_csv('STG_MVT_CRD_csv.csv', usecols=['VLR_PCL_FAT'], squeeze=True)\n",
    "a8[a8.notnull()]"
   ]
  },
  {
   "cell_type": "code",
   "execution_count": null,
   "metadata": {},
   "outputs": [],
   "source": []
  }
 ],
 "metadata": {
  "kernelspec": {
   "display_name": "Python 3",
   "language": "python",
   "name": "python3"
  },
  "language_info": {
   "codemirror_mode": {
    "name": "ipython",
    "version": 3
   },
   "file_extension": ".py",
   "mimetype": "text/x-python",
   "name": "python",
   "nbconvert_exporter": "python",
   "pygments_lexer": "ipython3",
   "version": "3.8.2"
  }
 },
 "nbformat": 4,
 "nbformat_minor": 4
}
