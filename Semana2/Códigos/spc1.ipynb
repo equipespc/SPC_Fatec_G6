{
 "cells": [
  {
   "cell_type": "code",
   "execution_count": 1,
   "metadata": {},
   "outputs": [],
   "source": [
    "import pandas as pd"
   ]
  },
  {
   "cell_type": "code",
   "execution_count": 2,
   "metadata": {},
   "outputs": [],
   "source": [
    "a = pd.read_csv('STG_MVT_CRD_csv.csv')"
   ]
  },
  {
   "cell_type": "code",
   "execution_count": 3,
   "metadata": {},
   "outputs": [
    {
     "name": "stdout",
     "output_type": "stream",
     "text": [
      "<class 'pandas.core.frame.DataFrame'>\n",
      "RangeIndex: 15 entries, 0 to 14\n",
      "Data columns (total 12 columns):\n",
      " #   Column               Non-Null Count  Dtype  \n",
      "---  ------               --------------  -----  \n",
      " 0   ID_STG_MVT_CRD       15 non-null     int64  \n",
      " 1   VLR_SDO_UTZ_CRD_RTO  1 non-null      float64\n",
      " 2   VLR_TOT_FAT          1 non-null      float64\n",
      " 3   VLR_MIM_FAT          1 non-null      float64\n",
      " 4   VLR_PCL_FAT          13 non-null     float64\n",
      " 5   QTD_CLI_CAD_POS      15 non-null     int64  \n",
      " 6   QTD_MVT              15 non-null     int64  \n",
      " 7   DES_TIP_PSS          15 non-null     object \n",
      " 8   ID_FNT_ITT           15 non-null     int64  \n",
      " 9   COD_MDL              15 non-null     object \n",
      " 10  DAT_RSS_FNT_ITT      15 non-null     object \n",
      " 11  DAT_INC_DBO          15 non-null     object \n",
      "dtypes: float64(4), int64(4), object(4)\n",
      "memory usage: 1.5+ KB\n"
     ]
    }
   ],
   "source": [
    "a.info()"
   ]
  },
  {
   "cell_type": "code",
   "execution_count": 4,
   "metadata": {},
   "outputs": [],
   "source": [
    "a['DAT_RSS_FNT_ITT'] = pd.to_datetime(a['DAT_RSS_FNT_ITT'])"
   ]
  },
  {
   "cell_type": "code",
   "execution_count": 5,
   "metadata": {},
   "outputs": [],
   "source": [
    "a['DAT_INC_DBO'] = pd.to_datetime(a['DAT_INC_DBO'])"
   ]
  },
  {
   "cell_type": "code",
   "execution_count": 6,
   "metadata": {},
   "outputs": [
    {
     "data": {
      "text/plain": [
       "True     14\n",
       "False     1\n",
       "Name: VLR_SDO_UTZ_CRD_RTO, dtype: int64"
      ]
     },
     "execution_count": 6,
     "metadata": {},
     "output_type": "execute_result"
    }
   ],
   "source": [
    "#coluna 1, verifica quantos valores nulos há\n",
    "b = a['VLR_SDO_UTZ_CRD_RTO'].isnull().value_counts()\n",
    "b"
   ]
  },
  {
   "cell_type": "code",
   "execution_count": 7,
   "metadata": {},
   "outputs": [
    {
     "data": {
      "text/plain": [
       "True     14\n",
       "False     1\n",
       "Name: VLR_TOT_FAT, dtype: int64"
      ]
     },
     "execution_count": 7,
     "metadata": {},
     "output_type": "execute_result"
    }
   ],
   "source": [
    "#coluna 2, verifica quantos valores nulos há\n",
    "c = a['VLR_TOT_FAT'].isnull().value_counts()\n",
    "c"
   ]
  },
  {
   "cell_type": "code",
   "execution_count": 8,
   "metadata": {},
   "outputs": [
    {
     "data": {
      "text/plain": [
       "True     14\n",
       "False     1\n",
       "Name: VLR_MIM_FAT, dtype: int64"
      ]
     },
     "execution_count": 8,
     "metadata": {},
     "output_type": "execute_result"
    }
   ],
   "source": [
    "#coluna 3, verifica quantos valores nulos há\n",
    "d = a['VLR_MIM_FAT'].isnull().value_counts()\n",
    "d"
   ]
  },
  {
   "cell_type": "code",
   "execution_count": 9,
   "metadata": {},
   "outputs": [
    {
     "data": {
      "text/plain": [
       "False    13\n",
       "True      2\n",
       "Name: VLR_PCL_FAT, dtype: int64"
      ]
     },
     "execution_count": 9,
     "metadata": {},
     "output_type": "execute_result"
    }
   ],
   "source": [
    "#coluna 4, verifica quantos valores nulos há\n",
    "e = a['VLR_PCL_FAT'].isnull().value_counts()\n",
    "e"
   ]
  },
  {
   "cell_type": "code",
   "execution_count": 10,
   "metadata": {},
   "outputs": [
    {
     "data": {
      "text/html": [
       "<div>\n",
       "<style scoped>\n",
       "    .dataframe tbody tr th:only-of-type {\n",
       "        vertical-align: middle;\n",
       "    }\n",
       "\n",
       "    .dataframe tbody tr th {\n",
       "        vertical-align: top;\n",
       "    }\n",
       "\n",
       "    .dataframe thead th {\n",
       "        text-align: right;\n",
       "    }\n",
       "</style>\n",
       "<table border=\"1\" class=\"dataframe\">\n",
       "  <thead>\n",
       "    <tr style=\"text-align: right;\">\n",
       "      <th></th>\n",
       "      <th>ID_STG_MVT_CRD</th>\n",
       "      <th>VLR_SDO_UTZ_CRD_RTO</th>\n",
       "      <th>VLR_TOT_FAT</th>\n",
       "      <th>VLR_MIM_FAT</th>\n",
       "      <th>VLR_PCL_FAT</th>\n",
       "      <th>QTD_CLI_CAD_POS</th>\n",
       "      <th>QTD_MVT</th>\n",
       "      <th>DES_TIP_PSS</th>\n",
       "      <th>ID_FNT_ITT</th>\n",
       "      <th>COD_MDL</th>\n",
       "      <th>DAT_RSS_FNT_ITT</th>\n",
       "      <th>DAT_INC_DBO</th>\n",
       "    </tr>\n",
       "  </thead>\n",
       "  <tbody>\n",
       "  </tbody>\n",
       "</table>\n",
       "</div>"
      ],
      "text/plain": [
       "Empty DataFrame\n",
       "Columns: [ID_STG_MVT_CRD, VLR_SDO_UTZ_CRD_RTO, VLR_TOT_FAT, VLR_MIM_FAT, VLR_PCL_FAT, QTD_CLI_CAD_POS, QTD_MVT, DES_TIP_PSS, ID_FNT_ITT, COD_MDL, DAT_RSS_FNT_ITT, DAT_INC_DBO]\n",
       "Index: []"
      ]
     },
     "execution_count": 10,
     "metadata": {},
     "output_type": "execute_result"
    }
   ],
   "source": [
    "#coluna 1, verifica se há zeros(0)\n",
    "a[a['VLR_SDO_UTZ_CRD_RTO'] == 0]"
   ]
  },
  {
   "cell_type": "code",
   "execution_count": 11,
   "metadata": {},
   "outputs": [
    {
     "data": {
      "text/html": [
       "<div>\n",
       "<style scoped>\n",
       "    .dataframe tbody tr th:only-of-type {\n",
       "        vertical-align: middle;\n",
       "    }\n",
       "\n",
       "    .dataframe tbody tr th {\n",
       "        vertical-align: top;\n",
       "    }\n",
       "\n",
       "    .dataframe thead th {\n",
       "        text-align: right;\n",
       "    }\n",
       "</style>\n",
       "<table border=\"1\" class=\"dataframe\">\n",
       "  <thead>\n",
       "    <tr style=\"text-align: right;\">\n",
       "      <th></th>\n",
       "      <th>ID_STG_MVT_CRD</th>\n",
       "      <th>VLR_SDO_UTZ_CRD_RTO</th>\n",
       "      <th>VLR_TOT_FAT</th>\n",
       "      <th>VLR_MIM_FAT</th>\n",
       "      <th>VLR_PCL_FAT</th>\n",
       "      <th>QTD_CLI_CAD_POS</th>\n",
       "      <th>QTD_MVT</th>\n",
       "      <th>DES_TIP_PSS</th>\n",
       "      <th>ID_FNT_ITT</th>\n",
       "      <th>COD_MDL</th>\n",
       "      <th>DAT_RSS_FNT_ITT</th>\n",
       "      <th>DAT_INC_DBO</th>\n",
       "    </tr>\n",
       "  </thead>\n",
       "  <tbody>\n",
       "  </tbody>\n",
       "</table>\n",
       "</div>"
      ],
      "text/plain": [
       "Empty DataFrame\n",
       "Columns: [ID_STG_MVT_CRD, VLR_SDO_UTZ_CRD_RTO, VLR_TOT_FAT, VLR_MIM_FAT, VLR_PCL_FAT, QTD_CLI_CAD_POS, QTD_MVT, DES_TIP_PSS, ID_FNT_ITT, COD_MDL, DAT_RSS_FNT_ITT, DAT_INC_DBO]\n",
       "Index: []"
      ]
     },
     "execution_count": 11,
     "metadata": {},
     "output_type": "execute_result"
    }
   ],
   "source": [
    "#coluna 2, verifica se há zeros(0)\n",
    "a[a['VLR_TOT_FAT'] == 0]"
   ]
  },
  {
   "cell_type": "markdown",
   "metadata": {},
   "source": [
    "\n",
    "   "
   ]
  },
  {
   "cell_type": "code",
   "execution_count": 12,
   "metadata": {},
   "outputs": [
    {
     "data": {
      "text/html": [
       "<div>\n",
       "<style scoped>\n",
       "    .dataframe tbody tr th:only-of-type {\n",
       "        vertical-align: middle;\n",
       "    }\n",
       "\n",
       "    .dataframe tbody tr th {\n",
       "        vertical-align: top;\n",
       "    }\n",
       "\n",
       "    .dataframe thead th {\n",
       "        text-align: right;\n",
       "    }\n",
       "</style>\n",
       "<table border=\"1\" class=\"dataframe\">\n",
       "  <thead>\n",
       "    <tr style=\"text-align: right;\">\n",
       "      <th></th>\n",
       "      <th>ID_STG_MVT_CRD</th>\n",
       "      <th>VLR_SDO_UTZ_CRD_RTO</th>\n",
       "      <th>VLR_TOT_FAT</th>\n",
       "      <th>VLR_MIM_FAT</th>\n",
       "      <th>VLR_PCL_FAT</th>\n",
       "      <th>QTD_CLI_CAD_POS</th>\n",
       "      <th>QTD_MVT</th>\n",
       "      <th>DES_TIP_PSS</th>\n",
       "      <th>ID_FNT_ITT</th>\n",
       "      <th>COD_MDL</th>\n",
       "      <th>DAT_RSS_FNT_ITT</th>\n",
       "      <th>DAT_INC_DBO</th>\n",
       "    </tr>\n",
       "  </thead>\n",
       "  <tbody>\n",
       "  </tbody>\n",
       "</table>\n",
       "</div>"
      ],
      "text/plain": [
       "Empty DataFrame\n",
       "Columns: [ID_STG_MVT_CRD, VLR_SDO_UTZ_CRD_RTO, VLR_TOT_FAT, VLR_MIM_FAT, VLR_PCL_FAT, QTD_CLI_CAD_POS, QTD_MVT, DES_TIP_PSS, ID_FNT_ITT, COD_MDL, DAT_RSS_FNT_ITT, DAT_INC_DBO]\n",
       "Index: []"
      ]
     },
     "execution_count": 12,
     "metadata": {},
     "output_type": "execute_result"
    }
   ],
   "source": [
    "#coluna 3, verifica se há zeros(0)\n",
    "a[a['VLR_MIM_FAT'] == 0]"
   ]
  },
  {
   "cell_type": "code",
   "execution_count": 13,
   "metadata": {},
   "outputs": [
    {
     "data": {
      "text/html": [
       "<div>\n",
       "<style scoped>\n",
       "    .dataframe tbody tr th:only-of-type {\n",
       "        vertical-align: middle;\n",
       "    }\n",
       "\n",
       "    .dataframe tbody tr th {\n",
       "        vertical-align: top;\n",
       "    }\n",
       "\n",
       "    .dataframe thead th {\n",
       "        text-align: right;\n",
       "    }\n",
       "</style>\n",
       "<table border=\"1\" class=\"dataframe\">\n",
       "  <thead>\n",
       "    <tr style=\"text-align: right;\">\n",
       "      <th></th>\n",
       "      <th>ID_STG_MVT_CRD</th>\n",
       "      <th>VLR_SDO_UTZ_CRD_RTO</th>\n",
       "      <th>VLR_TOT_FAT</th>\n",
       "      <th>VLR_MIM_FAT</th>\n",
       "      <th>VLR_PCL_FAT</th>\n",
       "      <th>QTD_CLI_CAD_POS</th>\n",
       "      <th>QTD_MVT</th>\n",
       "      <th>DES_TIP_PSS</th>\n",
       "      <th>ID_FNT_ITT</th>\n",
       "      <th>COD_MDL</th>\n",
       "      <th>DAT_RSS_FNT_ITT</th>\n",
       "      <th>DAT_INC_DBO</th>\n",
       "    </tr>\n",
       "  </thead>\n",
       "  <tbody>\n",
       "  </tbody>\n",
       "</table>\n",
       "</div>"
      ],
      "text/plain": [
       "Empty DataFrame\n",
       "Columns: [ID_STG_MVT_CRD, VLR_SDO_UTZ_CRD_RTO, VLR_TOT_FAT, VLR_MIM_FAT, VLR_PCL_FAT, QTD_CLI_CAD_POS, QTD_MVT, DES_TIP_PSS, ID_FNT_ITT, COD_MDL, DAT_RSS_FNT_ITT, DAT_INC_DBO]\n",
       "Index: []"
      ]
     },
     "execution_count": 13,
     "metadata": {},
     "output_type": "execute_result"
    }
   ],
   "source": [
    "#coluna 4, verifica se há zeros(0)\n",
    "a[a['VLR_PCL_FAT'] == 0]"
   ]
  },
  {
   "cell_type": "code",
   "execution_count": 14,
   "metadata": {
    "scrolled": true
   },
   "outputs": [],
   "source": [
    "a1 = pd.read_csv('a1_STG_MVT_CRD_csv.csv')"
   ]
  },
  {
   "cell_type": "code",
   "execution_count": 15,
   "metadata": {},
   "outputs": [
    {
     "name": "stdout",
     "output_type": "stream",
     "text": [
      "<class 'pandas.core.frame.DataFrame'>\n",
      "RangeIndex: 15 entries, 0 to 14\n",
      "Data columns (total 12 columns):\n",
      " #   Column               Non-Null Count  Dtype \n",
      "---  ------               --------------  ----- \n",
      " 0   ID_STG_MVT_CRD       15 non-null     int64 \n",
      " 1   VLR_SDO_UTZ_CRD_RTO  15 non-null     int64 \n",
      " 2   VLR_TOT_FAT          15 non-null     int64 \n",
      " 3   VLR_MIM_FAT          15 non-null     int64 \n",
      " 4   VLR_PCL_FAT          15 non-null     int64 \n",
      " 5   QTD_CLI_CAD_POS      15 non-null     int64 \n",
      " 6   QTD_MVT              15 non-null     int64 \n",
      " 7   DES_TIP_PSS          15 non-null     object\n",
      " 8   ID_FNT_ITT           15 non-null     int64 \n",
      " 9   COD_MDL              15 non-null     object\n",
      " 10  DAT_RSS_FNT_ITT      15 non-null     object\n",
      " 11  DAT_INC_DBO          15 non-null     object\n",
      "dtypes: int64(8), object(4)\n",
      "memory usage: 1.5+ KB\n"
     ]
    }
   ],
   "source": [
    "a1.info()"
   ]
  },
  {
   "cell_type": "code",
   "execution_count": 16,
   "metadata": {},
   "outputs": [],
   "source": [
    "a1['DAT_RSS_FNT_ITT'] = pd.to_datetime(a1['DAT_RSS_FNT_ITT'])"
   ]
  },
  {
   "cell_type": "code",
   "execution_count": 17,
   "metadata": {},
   "outputs": [],
   "source": [
    "a1['DAT_INC_DBO'] = pd.to_datetime(a1['DAT_INC_DBO'])"
   ]
  },
  {
   "cell_type": "code",
   "execution_count": 18,
   "metadata": {},
   "outputs": [
    {
     "name": "stdout",
     "output_type": "stream",
     "text": [
      "<class 'pandas.core.frame.DataFrame'>\n",
      "RangeIndex: 15 entries, 0 to 14\n",
      "Data columns (total 12 columns):\n",
      " #   Column               Non-Null Count  Dtype         \n",
      "---  ------               --------------  -----         \n",
      " 0   ID_STG_MVT_CRD       15 non-null     int64         \n",
      " 1   VLR_SDO_UTZ_CRD_RTO  15 non-null     int64         \n",
      " 2   VLR_TOT_FAT          15 non-null     int64         \n",
      " 3   VLR_MIM_FAT          15 non-null     int64         \n",
      " 4   VLR_PCL_FAT          15 non-null     int64         \n",
      " 5   QTD_CLI_CAD_POS      15 non-null     int64         \n",
      " 6   QTD_MVT              15 non-null     int64         \n",
      " 7   DES_TIP_PSS          15 non-null     object        \n",
      " 8   ID_FNT_ITT           15 non-null     int64         \n",
      " 9   COD_MDL              15 non-null     object        \n",
      " 10  DAT_RSS_FNT_ITT      15 non-null     datetime64[ns]\n",
      " 11  DAT_INC_DBO          15 non-null     datetime64[ns]\n",
      "dtypes: datetime64[ns](2), int64(8), object(2)\n",
      "memory usage: 1.5+ KB\n"
     ]
    }
   ],
   "source": [
    "a1.info()"
   ]
  },
  {
   "cell_type": "code",
   "execution_count": 19,
   "metadata": {},
   "outputs": [
    {
     "data": {
      "text/plain": [
       "False"
      ]
     },
     "execution_count": 19,
     "metadata": {},
     "output_type": "execute_result"
    }
   ],
   "source": [
    "#todos os valores da col 7 são o mesmo\n",
    "a1['DES_TIP_PSS'].is_unique"
   ]
  },
  {
   "cell_type": "code",
   "execution_count": 20,
   "metadata": {},
   "outputs": [
    {
     "data": {
      "text/plain": [
       "True"
      ]
     },
     "execution_count": 20,
     "metadata": {},
     "output_type": "execute_result"
    }
   ],
   "source": [
    "#coluna 9\n",
    "a1['COD_MDL'].is_unique"
   ]
  },
  {
   "cell_type": "code",
   "execution_count": 21,
   "metadata": {},
   "outputs": [
    {
     "data": {
      "text/plain": [
       "True"
      ]
     },
     "execution_count": 21,
     "metadata": {},
     "output_type": "execute_result"
    }
   ],
   "source": [
    "#coluna 0\n",
    "a1['ID_STG_MVT_CRD'].is_unique"
   ]
  },
  {
   "cell_type": "code",
   "execution_count": 22,
   "metadata": {},
   "outputs": [
    {
     "data": {
      "text/plain": [
       "False"
      ]
     },
     "execution_count": 22,
     "metadata": {},
     "output_type": "execute_result"
    }
   ],
   "source": [
    "#coluna 1\n",
    "a1['VLR_SDO_UTZ_CRD_RTO'].is_unique"
   ]
  },
  {
   "cell_type": "code",
   "execution_count": 23,
   "metadata": {},
   "outputs": [
    {
     "data": {
      "text/plain": [
       "False"
      ]
     },
     "execution_count": 23,
     "metadata": {},
     "output_type": "execute_result"
    }
   ],
   "source": [
    "#coluna 2\n",
    "a1['VLR_TOT_FAT'].is_unique"
   ]
  },
  {
   "cell_type": "code",
   "execution_count": 24,
   "metadata": {},
   "outputs": [
    {
     "data": {
      "text/plain": [
       "False"
      ]
     },
     "execution_count": 24,
     "metadata": {},
     "output_type": "execute_result"
    }
   ],
   "source": [
    "#coluna 3\n",
    "a1['VLR_MIM_FAT'].is_unique"
   ]
  },
  {
   "cell_type": "code",
   "execution_count": 25,
   "metadata": {},
   "outputs": [
    {
     "data": {
      "text/plain": [
       "False"
      ]
     },
     "execution_count": 25,
     "metadata": {},
     "output_type": "execute_result"
    }
   ],
   "source": [
    "#coluna 4\n",
    "a1['VLR_PCL_FAT'].is_unique"
   ]
  },
  {
   "cell_type": "code",
   "execution_count": 26,
   "metadata": {},
   "outputs": [
    {
     "data": {
      "text/plain": [
       "True"
      ]
     },
     "execution_count": 26,
     "metadata": {},
     "output_type": "execute_result"
    }
   ],
   "source": [
    "#coluna 5\n",
    "a1['QTD_CLI_CAD_POS'].is_unique"
   ]
  },
  {
   "cell_type": "code",
   "execution_count": 27,
   "metadata": {},
   "outputs": [
    {
     "data": {
      "text/plain": [
       "True"
      ]
     },
     "execution_count": 27,
     "metadata": {},
     "output_type": "execute_result"
    }
   ],
   "source": [
    "#coluna 6\n",
    "a1['QTD_MVT'].is_unique"
   ]
  },
  {
   "cell_type": "code",
   "execution_count": 28,
   "metadata": {},
   "outputs": [
    {
     "data": {
      "text/plain": [
       "False"
      ]
     },
     "execution_count": 28,
     "metadata": {},
     "output_type": "execute_result"
    }
   ],
   "source": [
    "#coluna 8\n",
    "a1['ID_FNT_ITT'].is_unique"
   ]
  },
  {
   "cell_type": "code",
   "execution_count": 29,
   "metadata": {},
   "outputs": [
    {
     "data": {
      "text/plain": [
       "False"
      ]
     },
     "execution_count": 29,
     "metadata": {},
     "output_type": "execute_result"
    }
   ],
   "source": [
    "#coluna 10\n",
    "a1['DAT_RSS_FNT_ITT'].is_unique"
   ]
  },
  {
   "cell_type": "code",
   "execution_count": 30,
   "metadata": {},
   "outputs": [
    {
     "data": {
      "text/plain": [
       "False"
      ]
     },
     "execution_count": 30,
     "metadata": {},
     "output_type": "execute_result"
    }
   ],
   "source": [
    "#coluna 11\n",
    "a1['DAT_INC_DBO'].is_unique"
   ]
  },
  {
   "cell_type": "code",
   "execution_count": 31,
   "metadata": {},
   "outputs": [
    {
     "name": "stdout",
     "output_type": "stream",
     "text": [
      "<class 'pandas.core.frame.DataFrame'>\n",
      "RangeIndex: 15 entries, 0 to 14\n",
      "Data columns (total 12 columns):\n",
      " #   Column               Non-Null Count  Dtype         \n",
      "---  ------               --------------  -----         \n",
      " 0   ID_STG_MVT_CRD       15 non-null     int64         \n",
      " 1   VLR_SDO_UTZ_CRD_RTO  15 non-null     int64         \n",
      " 2   VLR_TOT_FAT          15 non-null     int64         \n",
      " 3   VLR_MIM_FAT          15 non-null     int64         \n",
      " 4   VLR_PCL_FAT          15 non-null     int64         \n",
      " 5   QTD_CLI_CAD_POS      15 non-null     int64         \n",
      " 6   QTD_MVT              15 non-null     int64         \n",
      " 7   DES_TIP_PSS          15 non-null     object        \n",
      " 8   ID_FNT_ITT           15 non-null     int64         \n",
      " 9   COD_MDL              15 non-null     object        \n",
      " 10  DAT_RSS_FNT_ITT      15 non-null     datetime64[ns]\n",
      " 11  DAT_INC_DBO          15 non-null     datetime64[ns]\n",
      "dtypes: datetime64[ns](2), int64(8), object(2)\n",
      "memory usage: 1.5+ KB\n"
     ]
    }
   ],
   "source": [
    "a1.info()"
   ]
  },
  {
   "cell_type": "code",
   "execution_count": 34,
   "metadata": {},
   "outputs": [
    {
     "data": {
      "text/plain": [
       "array([14,  1], dtype=int64)"
      ]
     },
     "execution_count": 34,
     "metadata": {},
     "output_type": "execute_result"
    }
   ],
   "source": [
    "#coluna 1\n",
    "a1['VLR_SDO_UTZ_CRD_RTO'].value_counts().values"
   ]
  },
  {
   "cell_type": "code",
   "execution_count": 35,
   "metadata": {},
   "outputs": [
    {
     "data": {
      "text/plain": [
       "array([14,  1], dtype=int64)"
      ]
     },
     "execution_count": 35,
     "metadata": {},
     "output_type": "execute_result"
    }
   ],
   "source": [
    "#coluna 2\n",
    "a1['VLR_TOT_FAT'].value_counts().values"
   ]
  },
  {
   "cell_type": "code",
   "execution_count": 36,
   "metadata": {},
   "outputs": [
    {
     "data": {
      "text/plain": [
       "array([14,  1], dtype=int64)"
      ]
     },
     "execution_count": 36,
     "metadata": {},
     "output_type": "execute_result"
    }
   ],
   "source": [
    "#coluna 3\n",
    "a1['VLR_MIM_FAT'].value_counts().values"
   ]
  },
  {
   "cell_type": "code",
   "execution_count": 37,
   "metadata": {},
   "outputs": [
    {
     "data": {
      "text/plain": [
       "array([2, 1, 1, 1, 1, 1, 1, 1, 1, 1, 1, 1, 1, 1], dtype=int64)"
      ]
     },
     "execution_count": 37,
     "metadata": {},
     "output_type": "execute_result"
    }
   ],
   "source": [
    "#coluna 4, tirando as valores nulos, todos são exclusivos.\n",
    "a1['VLR_PCL_FAT'].value_counts().values"
   ]
  },
  {
   "cell_type": "code",
   "execution_count": null,
   "metadata": {},
   "outputs": [],
   "source": []
  },
  {
   "cell_type": "code",
   "execution_count": null,
   "metadata": {},
   "outputs": [],
   "source": []
  },
  {
   "cell_type": "code",
   "execution_count": null,
   "metadata": {},
   "outputs": [],
   "source": []
  },
  {
   "cell_type": "code",
   "execution_count": null,
   "metadata": {},
   "outputs": [],
   "source": []
  },
  {
   "cell_type": "code",
   "execution_count": null,
   "metadata": {},
   "outputs": [],
   "source": []
  },
  {
   "cell_type": "code",
   "execution_count": null,
   "metadata": {},
   "outputs": [],
   "source": []
  },
  {
   "cell_type": "code",
   "execution_count": null,
   "metadata": {},
   "outputs": [],
   "source": []
  },
  {
   "cell_type": "code",
   "execution_count": null,
   "metadata": {},
   "outputs": [],
   "source": []
  }
 ],
 "metadata": {
  "kernelspec": {
   "display_name": "Python 3",
   "language": "python",
   "name": "python3"
  },
  "language_info": {
   "codemirror_mode": {
    "name": "ipython",
    "version": 3
   },
   "file_extension": ".py",
   "mimetype": "text/x-python",
   "name": "python",
   "nbconvert_exporter": "python",
   "pygments_lexer": "ipython3",
   "version": "3.8.2"
  }
 },
 "nbformat": 4,
 "nbformat_minor": 4
}
